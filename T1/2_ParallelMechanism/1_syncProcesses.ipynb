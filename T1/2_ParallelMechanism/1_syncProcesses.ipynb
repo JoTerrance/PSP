{
  "cells": [
    {
      "cell_type": "code",
      "execution_count": null,
      "metadata": {},
      "outputs": [],
      "source": [
        "from multiprocessing import Process, Lock\n",
        "\n",
        "def f(l, i):\n",
        "    l.acquire()\n",
        "    print 'hello world', i\n",
        "    l.release()\n",
        "\n",
        "if __name__ == '__main__':\n",
        "    lock = Lock()\n",
        "\n",
        "    for num in range(10):\n",
        "        Process(target=f, args=(lock, num)).start()"
      ]
    }
  ],
  "metadata": {
    "anaconda-cloud": {},
    "kernelspec": {
      "display_name": "Python 3.9.13 64-bit (microsoft store)",
      "language": "python",
      "name": "python3"
    },
    "language_info": {
      "codemirror_mode": {
        "name": "ipython",
        "version": 3
      },
      "file_extension": ".py",
      "mimetype": "text/x-python",
      "name": "python",
      "nbconvert_exporter": "python",
      "pygments_lexer": "ipython3",
      "version": "3.9.13"
    },
    "vscode": {
      "interpreter": {
        "hash": "8344beb2e3695cc865366b87c9e795fe295d5e1a75013da0c7029a373688a8d6"
      }
    }
  },
  "nbformat": 4,
  "nbformat_minor": 4
}
