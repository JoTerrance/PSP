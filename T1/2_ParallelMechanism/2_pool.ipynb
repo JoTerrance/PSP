{
  "cells": [
    {
      "cell_type": "code",
      "execution_count": null,
      "metadata": {},
      "outputs": [],
      "source": [
        "from multiprocessing import Pool, TimeoutError\n",
        "import time\n",
        "import os\n",
        "\n",
        "def f(x):\n",
        "    return x*x\n",
        "\n",
        "if __name__ == '__main__':\n",
        "    pool = Pool(processes=4)              # start 4 worker processes\n",
        "\n",
        "    # print \"[0, 1, 4,..., 81]\"\n",
        "    print pool.map(f, range(10))\n",
        "\n",
        "    # print same numbers in arbitrary order\n",
        "    for i in pool.imap_unordered(f, range(10)):\n",
        "        print i\n",
        "\n",
        "    # evaluate \"f(20)\" asynchronously\n",
        "    res = pool.apply_async(f, (20,))      # runs in *only* one process\n",
        "    print res.get(timeout=1)              # prints \"400\"\n",
        "\n",
        "    # evaluate \"os.getpid()\" asynchronously\n",
        "    res = pool.apply_async(os.getpid, ()) # runs in *only* one process\n",
        "    print res.get(timeout=1)              # prints the PID of that process\n",
        "\n",
        "    # launching multiple evaluations asynchronously *may* use more processes\n",
        "    multiple_results = [pool.apply_async(os.getpid, ()) for i in range(4)]\n",
        "    print [res.get(timeout=1) for res in multiple_results]\n",
        "\n",
        "    # make a single worker sleep for 10 secs\n",
        "    res = pool.apply_async(time.sleep, (10,))\n",
        "    try:\n",
        "        print res.get(timeout=1)\n",
        "    except TimeoutError:\n",
        "        print \"We lacked patience and got a multiprocessing.TimeoutError\""
      ]
    }
  ],
  "metadata": {
    "anaconda-cloud": {},
    "kernelspec": {
      "display_name": "Python 3.9.13 64-bit (microsoft store)",
      "language": "python",
      "name": "python3"
    },
    "language_info": {
      "codemirror_mode": {
        "name": "ipython",
        "version": 3
      },
      "file_extension": ".py",
      "mimetype": "text/x-python",
      "name": "python",
      "nbconvert_exporter": "python",
      "pygments_lexer": "ipython3",
      "version": "3.9.13"
    },
    "vscode": {
      "interpreter": {
        "hash": "8344beb2e3695cc865366b87c9e795fe295d5e1a75013da0c7029a373688a8d6"
      }
    }
  },
  "nbformat": 4,
  "nbformat_minor": 4
}
