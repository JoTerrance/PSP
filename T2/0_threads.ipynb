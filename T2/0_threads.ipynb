{
  "cells": [
    {
      "cell_type": "markdown",
      "metadata": {},
      "source": [
        "# Multithreading\n",
        "\n",
        "This is the idea behind parallel processing, or the ability to set up and run multiple tasks concurrently."
      ]
    },
    {
      "cell_type": "markdown",
      "metadata": {},
      "source": [
        "##  Threading \n",
        "\n",
        "\n",
        "#### I/O-intensive processes improved with multithreading:\n",
        "* webscraping\n",
        "* reading and writing to files\n",
        "* sharing data between programs\n",
        "* network communications"
      ]
    },
    {
      "cell_type": "markdown",
      "metadata": {},
      "source": [
        "## Multithreading Example: Webscraping\n",
        "\n",
        "Historically, the programming knowledge required to set up multithreading was beyond the scope of this course, as it involved a good understanding of Python's Global Interpreter Lock (the GIL prevents multiple threads from running the same Python code at once). Also, you had to set up special classes that behave like Producers to divvy up the work, Consumers (aka \"workers\") to perform the work, and a Queue to hold tasks and provide communcations. And that was just the beginning.\n",
        "\n",
        "Fortunately, we've already learned one of the most valuable tools we'll need – the `map()` function. When we apply it using two standard libraries, *multiprocessing* and *multiprocessing.dummy*, setting up parallel processes and threads becomes fairly straightforward."
      ]
    },
    {
      "cell_type": "markdown",
      "metadata": {},
      "source": [
        "Here's a classic multithreading example provided by [IBM](http://www.ibm.com/developerworks/aix/library/au-threadingpython/) and adapted by [Chris Kiehl](http://chriskiehl.com/article/parallelism-in-one-line/) where you divide the task of retrieving web pages across multiple threads:\n",
        "\n"
      ]
    },
    {
      "cell_type": "code",
      "execution_count": 7,
      "metadata": {},
      "outputs": [],
      "source": [
        "\n",
        "import time \n",
        "import threading \n",
        "import queue \n",
        "import urllib \n"
      ]
    },
    {
      "cell_type": "code",
      "execution_count": 8,
      "metadata": {},
      "outputs": [
        {
          "ename": "NameError",
          "evalue": "name 'start_time' is not defined",
          "output_type": "error",
          "traceback": [
            "\u001b[0;31m---------------------------------------------------------------------------\u001b[0m",
            "\u001b[0;31mNameError\u001b[0m                                 Traceback (most recent call last)",
            "Cell \u001b[0;32mIn [8], line 35\u001b[0m\n\u001b[1;32m     32\u001b[0m   \u001b[39mfor\u001b[39;00m worker \u001b[39min\u001b[39;00m worker_threads:\n\u001b[1;32m     33\u001b[0m     worker\u001b[39m.\u001b[39mjoin()\n\u001b[0;32m---> 35\u001b[0m \u001b[39mprint\u001b[39m (\u001b[39m\"\u001b[39m\u001b[39mDone! Time taken: \u001b[39m\u001b[39m{}\u001b[39;00m\u001b[39m\"\u001b[39m\u001b[39m.\u001b[39mformat(time\u001b[39m.\u001b[39mtime() \u001b[39m-\u001b[39m start_time))\n\u001b[1;32m     37\u001b[0m \u001b[39mdef\u001b[39;00m \u001b[39mbuild_worker_pool\u001b[39m(queue, size):\n\u001b[1;32m     38\u001b[0m   workers \u001b[39m=\u001b[39m []\n",
            "\u001b[0;31mNameError\u001b[0m: name 'start_time' is not defined"
          ]
        }
      ],
      "source": [
        "class Consumer(threading.Thread): \n",
        "  def __init__(self, queue): \n",
        "    threading.Thread.__init__(self)\n",
        "    self._queue = queue \n",
        "\n",
        "  def run(self):\n",
        "    while True: \n",
        "      content = self._queue.get() \n",
        "      if isinstance(content, str) and content == 'quit':\n",
        "        break\n",
        "      response = urllib.urlopen(content)\n",
        "    print(\"Thanks!\")\n",
        "\n",
        "\n",
        "\n",
        "def Producer():\n",
        "  urls = [\n",
        "    'http://www.python.org', 'http://www.yahoo.com'\n",
        "    'http://www.scala.org', 'http://www.google.com'\n",
        "    # etc.. \n",
        "  ]\n",
        "  queue = queue.Queue()\n",
        "  worker_threads = build_worker_pool(queue, 4)\n",
        "  start_time = time.time()\n",
        "\n",
        "  # Add the urls to process\n",
        "  for url in urls: \n",
        "    queue.put(url)  \n",
        "  # Add the poison pill\n",
        "  for worker in worker_threads:\n",
        "    queue.put('quit')\n",
        "  for worker in worker_threads:\n",
        "    worker.join()\n",
        "\n",
        "print (\"Done! Time taken: {}\".format(time.time() - start_time))\n",
        "\n",
        "def build_worker_pool(queue, size):\n",
        "  workers = []\n",
        "  for _ in range(size):\n",
        "    worker = Consumer(queue)\n",
        "    worker.start() \n",
        "    workers.append(worker)\n",
        "  return workers\n"
      ]
    },
    {
      "cell_type": "code",
      "execution_count": null,
      "metadata": {},
      "outputs": [],
      "source": [
        "\n",
        "if __name__ == '__main__':\n",
        "  Producer()"
      ]
    }
  ],
  "metadata": {
    "anaconda-cloud": {},
    "kernelspec": {
      "display_name": "Python 3.10.6 64-bit",
      "language": "python",
      "name": "python3"
    },
    "language_info": {
      "codemirror_mode": {
        "name": "ipython",
        "version": 3
      },
      "file_extension": ".py",
      "mimetype": "text/x-python",
      "name": "python",
      "nbconvert_exporter": "python",
      "pygments_lexer": "ipython3",
      "version": "3.10.6"
    },
    "vscode": {
      "interpreter": {
        "hash": "916dbcbb3f70747c44a77c7bcd40155683ae19c65e1c03b4aa3499c5328201f1"
      }
    }
  },
  "nbformat": 4,
  "nbformat_minor": 4
}
