{
  "cells": [
    {
      "cell_type": "code",
      "execution_count": null,
      "metadata": {},
      "outputs": [],
      "source": [
        "import time\n",
        "import urllib2\n",
        "import threading\n",
        "import random\n"
      ]
    },
    {
      "cell_type": "code",
      "execution_count": null,
      "metadata": {},
      "outputs": [],
      "source": [
        "\n",
        "class Producer(threading.Thread):\n",
        "    \"\"\"\n",
        "    Produces random integers to a list\n",
        "    \"\"\"\n",
        "\n",
        "    def __init__(self, integers, condition):\n",
        "        \"\"\"\n",
        "        Constructor.\n",
        "\n",
        "        @param integers list of integers\n",
        "        @param condition condition synchronization object\n",
        "        \"\"\"\n",
        "        threading.Thread.__init__(self)\n",
        "        self.integers = integers\n",
        "        self.condition = condition\n",
        "    \n",
        "    def run(self):\n",
        "        \"\"\"\n",
        "        Thread run method. Append random integers to the integers list at\n",
        "        random time.\n",
        "        \"\"\"\n",
        "        for i in range(10):\n",
        "            integer = random.randint(0, 256)\n",
        "            self.condition.acquire()\n",
        "            print 'condition acquired by %s' % self.name\n",
        "            self.integers.append(integer) \n",
        "            print '%d appended to list by %s' % (integer, self.name)\n",
        "            print 'condition notified by %s' % self.name\n",
        "            self.condition.notify()\n",
        "            print 'condition released by %s' % self.name\n",
        "            self.condition.release()\n",
        "            time.sleep(1)\n"
      ]
    },
    {
      "cell_type": "code",
      "execution_count": null,
      "metadata": {},
      "outputs": [],
      "source": [
        "\n",
        "class Consumer(threading.Thread):\n",
        "    \"\"\"\n",
        "    Consumes random integers from a list\n",
        "    \"\"\"\n",
        "\n",
        "    def __init__(self, integers, condition):\n",
        "        \"\"\"\n",
        "        Constructor.\n",
        "\n",
        "        @param integers list of integers\n",
        "        @param condition condition synchronization object\n",
        "        \"\"\"\n",
        "        threading.Thread.__init__(self)\n",
        "        self.integers = integers\n",
        "        self.condition = condition\n",
        "    \n",
        "    def run(self):\n",
        "        \"\"\"\n",
        "        Thread run method. Consumes integers from list\n",
        "        \"\"\"\n",
        "        while True:\n",
        "            self.condition.acquire()\n",
        "            print 'condition acquired by %s' % self.name\n",
        "            while True:\n",
        "                if self.integers:\n",
        "                    integer = self.integers.pop()\n",
        "                    print '%d popped from list by %s' % (integer, self.name)\n",
        "                    break\n",
        "                print 'condition wait by %s' % self.name\n",
        "                self.condition.wait()\n",
        "            print 'condition released by %s' % self.name\n",
        "            self.condition.release()\n"
      ]
    },
    {
      "cell_type": "code",
      "execution_count": null,
      "metadata": {},
      "outputs": [],
      "source": [
        "\n",
        "def main():\n",
        "    integers = []\n",
        "    condition = threading.Condition()\n",
        "    t1 = Producer(integers, condition)\n",
        "    t2 = Consumer(integers, condition)\n",
        "    t1.start()\n",
        "    t2.start()\n",
        "    t1.join()\n",
        "    t2.join()\n"
      ]
    },
    {
      "cell_type": "code",
      "execution_count": null,
      "metadata": {},
      "outputs": [],
      "source": [
        "\n",
        "if __name__ == '__main__':\n",
        "    main()\n",
        " \n"
      ]
    }
  ],
  "metadata": {
    "anaconda-cloud": {},
    "kernelspec": {
      "display_name": "Python 3",
      "language": "python",
      "name": "python3"
    },
    "language_info": {
      "codemirror_mode": {
        "name": "ipython",
        "version": 3
      },
      "file_extension": ".py",
      "mimetype": "text/x-python",
      "name": "python",
      "nbconvert_exporter": "python",
      "pygments_lexer": "ipython3",
      "version": "3.6.1"
    }
  },
  "nbformat": 4,
  "nbformat_minor": 4
}
