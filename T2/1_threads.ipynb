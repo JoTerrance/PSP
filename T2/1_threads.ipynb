{
  "cells": [
    {
      "cell_type": "code",
      "execution_count": null,
      "metadata": {},
      "outputs": [],
      "source": [
        "# -*- coding: utf-8 -*-\n",
        "\"\"\"\n",
        "A simple threading example. Create some threads by subclassing `threading.Thread`,\n",
        "keep track of them and wait for them to join.\n",
        "\"\"\"\n",
        "import random\n",
        "import threading\n",
        "import time"
      ]
    },
    {
      "cell_type": "code",
      "execution_count": null,
      "metadata": {},
      "outputs": [],
      "source": [
        "\n",
        "class SleepingThread(threading.Thread):\n",
        "\n",
        "    #: How long we're going to sleep for\n",
        "    sleep_length = None\n",
        "    id = None\n",
        "\n",
        "    def __init__(self, sleep_length=None, id=None):\n",
        "        super().__init__()\n",
        "        self.sleep_length = sleep_length or random.randrange(1, 20)\n",
        "        self.id=str(id)\n",
        "\n",
        "    def run(self):\n",
        "        print('starting thread ' + self.id)\n",
        "        time.sleep(self.sleep_length)\n",
        "        print('ending thread ' + self.id)\n",
        "\n"
      ]
    },
    {
      "cell_type": "code",
      "execution_count": null,
      "metadata": {},
      "outputs": [],
      "source": [
        "\n",
        "if __name__ == '__main__':\n",
        "\n",
        "\n",
        "    threads = list()\n",
        "    for i in range(4):\n",
        "        t = SleepingThread(id=i)\n",
        "        threads.append(t)\n",
        "        print('Launching Thread {}'.format(i))\n",
        "        t.start()\n",
        "\n",
        "\n",
        "    # wait for each to finish (join)\n",
        "    for i, t in enumerate(threads):\n",
        "        t.join()\n",
        "        print('Thread {} Stopped'.format(t.id))\n",
        "    \n",
        "  \n",
        "\n"
      ]
    }
  ],
  "metadata": {
    "anaconda-cloud": {},
    "kernelspec": {
      "display_name": "Python 3",
      "language": "python",
      "name": "python3"
    },
    "language_info": {
      "codemirror_mode": {
        "name": "ipython",
        "version": 3
      },
      "file_extension": ".py",
      "mimetype": "text/x-python",
      "name": "python",
      "nbconvert_exporter": "python",
      "pygments_lexer": "ipython3",
      "version": "3.6.1"
    }
  },
  "nbformat": 4,
  "nbformat_minor": 4
}
