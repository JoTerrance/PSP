{
  "cells": [
    {
      "cell_type": "code",
      "execution_count": null,
      "metadata": {},
      "outputs": [],
      "source": [
        "#!/usr/bin/python\n",
        "\n",
        "# Symmetric solution to the \"dining philosophers\"\n",
        "# problem. Uses a semaphore as the \"butler\" to avoid\n",
        "# deadlock.\n",
        "\n",
        "import sys\n",
        "import threading\n",
        "import time\n"
      ]
    },
    {
      "cell_type": "code",
      "execution_count": null,
      "metadata": {},
      "outputs": [],
      "source": [
        "\n",
        "class Semaphore(object):\n",
        "\n",
        "    def __init__(self, initial):\n",
        "        self.lock = threading.Condition(threading.Lock())\n",
        "        self.value = initial\n",
        "\n",
        "    def up(self):\n",
        "        with self.lock:\n",
        "            self.value += 1\n",
        "            self.lock.notify()\n",
        "\n",
        "    def down(self):\n",
        "        with self.lock:\n",
        "            while self.value == 0:\n",
        "                self.lock.wait()\n",
        "            self.value -= 1\n"
      ]
    },
    {
      "cell_type": "code",
      "execution_count": null,
      "metadata": {},
      "outputs": [],
      "source": [
        "\n",
        "class ChopStick(object):\n",
        "\n",
        "    def __init__(self, number):\n",
        "        self.number = number           # chop stick ID\n",
        "        self.user = -1                 # keep track of philosopher using it\n",
        "        self.lock = threading.Condition(threading.Lock())\n",
        "        self.taken = False\n",
        "\n",
        "    def take(self, user):         # used for synchronization\n",
        "        with self.lock:\n",
        "            while self.taken == True:\n",
        "                self.lock.wait()\n",
        "            self.user = user\n",
        "            self.taken = True\n",
        "            sys.stdout.write(\"p[%s] took c[%s]\\n\" % (user, self.number))\n",
        "            self.lock.notifyAll()\n",
        "\n",
        "    def drop(self, user):         # used for synchronization\n",
        "        with self.lock:\n",
        "            while self.taken == False:\n",
        "                self.lock.wait()\n",
        "            self.user = -1\n",
        "            self.taken = False\n",
        "            sys.stdout.write(\"p[%s] dropped c[%s]\\n\" % (user, self.number))\n",
        "            self.lock.notifyAll()\n",
        "\n"
      ]
    },
    {
      "cell_type": "code",
      "execution_count": null,
      "metadata": {},
      "outputs": [],
      "source": [
        "\n",
        "class Philosopher (threading.Thread):\n",
        "\n",
        "    def __init__(self, number, left, right, butler):\n",
        "        threading.Thread.__init__(self)\n",
        "        self.number = number            # philosopher number\n",
        "        self.left = left\n",
        "        self.right = right\n",
        "        self.butler = butler\n",
        "\n",
        "    def run(self):\n",
        "        for i in range(20):\n",
        "            self.butler.down()              # start service by butler\n",
        "            time.sleep(0.1)                 # think\n",
        "            self.left.take(self.number)     # pickup left chopstick\n",
        "            time.sleep(0.1)                 # (yield makes deadlock more likely)\n",
        "            self.right.take(self.number)    # pickup right chopstick\n",
        "            time.sleep(0.1)                 # eat\n",
        "            self.right.drop(self.number)    # drop right chopstick\n",
        "            self.left.drop(self.number)     # drop left chopstick\n",
        "            self.butler.up()                # end service by butler\n",
        "        sys.stdout.write(\"p[%s] finished thinking and eating\\n\" % self.number)\n",
        "\n"
      ]
    },
    {
      "cell_type": "code",
      "execution_count": null,
      "metadata": {},
      "outputs": [],
      "source": [
        "\n",
        "def main():\n",
        "    # number of philosophers / chop sticks\n",
        "    n = 5\n",
        "\n",
        "    # butler for deadlock avoidance (n-1 available)\n",
        "    butler = Semaphore(n-1)\n",
        "\n",
        "    # list of chopsticks\n",
        "    c = [ChopStick(i) for i in range(n)]\n",
        "\n",
        "    # list of philsophers\n",
        "    p = [Philosopher(i, c[i], c[(i+1)%n], butler) for i in range(n)]\n",
        "\n",
        "    for i in range(n):\n",
        "        p[i].start()\n",
        "\n"
      ]
    },
    {
      "cell_type": "code",
      "execution_count": null,
      "metadata": {},
      "outputs": [],
      "source": [
        "\n",
        "if __name__ == \"__main__\":\n",
        "    main()\n"
      ]
    }
  ],
  "metadata": {
    "anaconda-cloud": {},
    "kernelspec": {
      "display_name": "Python 3.9.13 64-bit (microsoft store)",
      "language": "python",
      "name": "python3"
    },
    "language_info": {
      "codemirror_mode": {
        "name": "ipython",
        "version": 3
      },
      "file_extension": ".py",
      "mimetype": "text/x-python",
      "name": "python",
      "nbconvert_exporter": "python",
      "pygments_lexer": "ipython3",
      "version": "3.9.13"
    },
    "vscode": {
      "interpreter": {
        "hash": "8344beb2e3695cc865366b87c9e795fe295d5e1a75013da0c7029a373688a8d6"
      }
    }
  },
  "nbformat": 4,
  "nbformat_minor": 4
}
