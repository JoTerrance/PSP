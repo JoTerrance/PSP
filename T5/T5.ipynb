{
 "cells": [
  {
   "cell_type": "code",
   "execution_count": 2,
   "metadata": {},
   "outputs": [
    {
     "name": "stdout",
     "output_type": "stream",
     "text": [
      "b'-----BEGIN PUBLIC KEY-----\\nMIIBIjANBgkqhkiG9w0BAQEFAAOCAQ8AMIIBCgKCAQEArGCMXkqoGnDIw6/O/R8t\\nurE2f7qgZLDDc1mr/MGuPw48LlbcPkZ1EfhpBhjRFDiGhb2hPYAKfb/q44NLXeti\\nQZatjdufQjU3QR+ntlDWqayrdljwdy+31qob/QrRSSwY3nvZn/oJLkkj+BPX2qNc\\nQMWFYM+d2DoHbWILh1r5Mce9gAfjL/pziMB+4QXK4MVSnuD/zKwAdIm8JKECQ1YW\\n9cM/1nj6Umi2sf+K7rfc/oph/xIJ9PvMMdyWWYlHExAoOXP8IuUf/vF0YsLh/SVg\\nAE7bP2hJ+V4OdWlJW7sNgxTLjkT8nbCSu0RWn2EkzVl4buRqLIwVHdfy1TXupbFU\\nvwIDAQAB\\n-----END PUBLIC KEY-----'\n"
     ]
    }
   ],
   "source": [
    "from Crypto.PublicKey import RSA\n",
    "\n",
    "secret_code = \"Unguessable\"\n",
    "key = RSA.generate(2048)\n",
    "encrypted_key = key.export_key(passphrase=secret_code, pkcs=8,\n",
    "                              protection=\"scryptAndAES128-CBC\")\n",
    "\n",
    "with open(\"rsa_key.bin\", \"wb\") as f:\n",
    "    f.write(encrypted_key)\n",
    "\n",
    "print(key.publickey().export_key())"
   ]
  },
  {
   "cell_type": "code",
   "execution_count": null,
   "metadata": {},
   "outputs": [],
   "source": [
    "from Crypto.PublicKey import RSA\n",
    "from Crypto.PublicKey import RSA\n",
    "from Crypto.Random import get_random_bytes\n",
    "from Crypto.Cipher import AES, PKCS1_OAEP\n",
    "key = RSA.generate(2048)\n",
    "private_key = key.export_key()\n",
    "file_out = open(\"private.pem\", \"wb\")\n",
    "file_out.write(private_key)\n",
    "file_out.close()\n",
    "\n",
    "public_key = key.publickey().export_key()\n",
    "file_out = open(\"public.pem\", \"wb\")\n",
    "file_out.write(public_key)\n",
    "file_out.close()\n",
    "\n",
    "secret_code = \"\"\"\n",
    "smtp port:1025\n",
    "ftp port: 21\n",
    "ftp user: admin\n",
    "ftp password XXXXX\n",
    "sh port 2222\n",
    "ssh user linuxserver\n",
    "ssh password admin\n",
    "        \"\"\".encode(\"utf-8\")\n",
    "\n",
    "file_out = open(\"encrypted_data.bin\", \"wb\")\n",
    "\n",
    "recipient_key = RSA.import_key(open(\"public.pem\").read())\n",
    "session_key = get_random_bytes(16)\n",
    "\n",
    "# Encrypt the session key with the public RSA key\n",
    "cipher_rsa = PKCS1_OAEP.new(recipient_key)\n",
    "enc_session_key = cipher_rsa.encrypt(secret_code)\n",
    "\n",
    "file_out.write(enc_session_key)\n",
    "file_out.close()\n",
    "\n",
    "print(public_key)\n",
    "print(secret_code)\n",
    "\n",
    "print(private_key)"
   ]
  },
  {
   "cell_type": "code",
   "execution_count": null,
   "metadata": {},
   "outputs": [],
   "source": [
    "from Crypto.PublicKey import RSA\n",
    "from Crypto.Cipher import AES, PKCS1_OAEP\n",
    "\n",
    "file_in = open(\"encrypted_data.bin\", \"rb\")\n",
    "\n",
    "private_key = RSA.import_key(open(\"private.pem\").read())\n",
    "\n",
    "enc_session_key = file_in.read(private_key.size_in_bytes())\n",
    "file_in.close()\n",
    "\n",
    "# Decrypt the session key with the private RSA key\n",
    "cipher_rsa = PKCS1_OAEP.new(private_key)\n",
    "session_key = cipher_rsa.decrypt(enc_session_key)\n",
    "print(session_key)"
   ]
  }
 ],
 "metadata": {
  "kernelspec": {
   "display_name": "Python 3",
   "language": "python",
   "name": "python3"
  },
  "language_info": {
   "codemirror_mode": {
    "name": "ipython",
    "version": 3
   },
   "file_extension": ".py",
   "mimetype": "text/x-python",
   "name": "python",
   "nbconvert_exporter": "python",
   "pygments_lexer": "ipython3",
   "version": "3.10.12"
  }
 },
 "nbformat": 4,
 "nbformat_minor": 2
}
